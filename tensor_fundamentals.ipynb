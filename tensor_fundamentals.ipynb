{
 "cells": [
  {
   "cell_type": "code",
   "execution_count": 1,
   "metadata": {},
   "outputs": [],
   "source": [
    "import tensorflow as tf"
   ]
  },
  {
   "cell_type": "code",
   "execution_count": 180,
   "metadata": {},
   "outputs": [],
   "source": [
    "import numpy as np"
   ]
  },
  {
   "cell_type": "markdown",
   "metadata": {},
   "source": [
    "# Creating tensors from existing constants"
   ]
  },
  {
   "cell_type": "code",
   "execution_count": 18,
   "metadata": {},
   "outputs": [
    {
     "data": {
      "text/plain": [
       "<tf.Tensor: shape=(2, 3), dtype=int32, numpy=\n",
       "array([[10,  7,  0],\n",
       "       [ 0,  7, 10]], dtype=int32)>"
      ]
     },
     "execution_count": 18,
     "metadata": {},
     "output_type": "execute_result"
    }
   ],
   "source": [
    "matrix = tf.constant([\n",
    "    [10, 7, 0],\n",
    "    [0, 7, 10]\n",
    "])\n",
    "\n",
    "matrix"
   ]
  },
  {
   "cell_type": "code",
   "execution_count": 177,
   "metadata": {},
   "outputs": [
    {
     "name": "stdout",
     "output_type": "stream",
     "text": [
      "2\n"
     ]
    },
    {
     "data": {
      "text/plain": [
       "(TensorShape([2, 2, 3]), TensorShape([2, 3]))"
      ]
     },
     "execution_count": 177,
     "metadata": {},
     "output_type": "execute_result"
    }
   ],
   "source": [
    "print(matrix.ndim)\n",
    "\n",
    "new_matrix = tf.constant([\n",
    "    [\n",
    "        [1,2,3],\n",
    "        [3,4,5]\n",
    "    ],\n",
    "    [\n",
    "        [7,8,9],\n",
    "        [10,11,12,]\n",
    "    ]\n",
    "])\n",
    "\n",
    "new_matrix.shape, matrix.shape"
   ]
  },
  {
   "cell_type": "code",
   "execution_count": 17,
   "metadata": {},
   "outputs": [
    {
     "data": {
      "text/plain": [
       "(<tf.Variable 'Variable:0' shape=(2,) dtype=float32, numpy=array([69., 89.], dtype=float32)>,\n",
       " <tf.Tensor: shape=(2,), dtype=float32, numpy=array([69., 87.], dtype=float32)>)"
      ]
     },
     "execution_count": 17,
     "metadata": {},
     "output_type": "execute_result"
    }
   ],
   "source": [
    "magic_num = tf.Variable([69., 89.])\n",
    "magic_num_2 = tf.constant([69., 87,])\n",
    "\n",
    "magic_num, magic_num_2"
   ]
  },
  {
   "cell_type": "markdown",
   "metadata": {},
   "source": [
    "# Random Tensors\n",
    "\n",
    "### What is random seed?\n",
    "The random data generated is actually pseudo-random i.e for some seed X, the random data generated of a specific shape will always be the same.\n",
    "\n",
    "This comes in handy when we want to reproduce the results of a specific run."
   ]
  },
  {
   "cell_type": "code",
   "execution_count": 30,
   "metadata": {},
   "outputs": [
    {
     "data": {
      "text/plain": [
       "(<tf.Tensor: shape=(2, 2), dtype=float32, numpy=\n",
       " array([[-0.7565803 , -0.06854702],\n",
       "        [ 0.07595026, -1.2573844 ]], dtype=float32)>,\n",
       " <tf.Tensor: shape=(2, 2), dtype=float32, numpy=\n",
       " array([[-0.23193763, -1.8107855 ],\n",
       "        [ 0.09988727, -0.50998646]], dtype=float32)>,\n",
       " <tf.Tensor: shape=(2, 2), dtype=bool, numpy=\n",
       " array([[False, False],\n",
       "        [False, False]])>)"
      ]
     },
     "execution_count": 30,
     "metadata": {},
     "output_type": "execute_result"
    }
   ],
   "source": [
    "random_1 = tf.random.Generator.from_seed(42)\n",
    "\n",
    "random_2 = tf.random.Generator.from_seed(43)\n",
    "\n",
    "# generates the total numbers in a single array & places them in shape\n",
    "random_1 = random_1.normal((2,2))\n",
    "random_2 = random_2.normal((2,2))\n",
    "\n",
    "print(random_1, random_2, random_1 == random_2)\n",
    "\n",
    "# change the shape of random_1"
   ]
  },
  {
   "cell_type": "markdown",
   "metadata": {},
   "source": [
    "## Uniform vs Normal Distribution\n",
    "\n",
    "The probability of getting numbers near the mean is higher than getting numbers far from the mean. This is the reason why the normal distribution is also called the bell curve.\n",
    "\n",
    "The uniform distribution is a probability distribution where all outcomes are equally likely. The normal distribution is a probability distribution where all outcomes are equally likely."
   ]
  },
  {
   "cell_type": "code",
   "execution_count": 171,
   "metadata": {},
   "outputs": [
    {
     "name": "stdout",
     "output_type": "stream",
     "text": [
      "tf.Tensor([0.4151367], shape=(1,), dtype=float32)\n",
      "tf.Tensor([0.13536637], shape=(1,), dtype=float32)\n"
     ]
    }
   ],
   "source": [
    "print(tf.random.uniform((1,)))\n",
    "print(tf.random.normal((1,)))"
   ]
  },
  {
   "cell_type": "markdown",
   "metadata": {},
   "source": [
    "# Shuffling Tensors\n",
    "> Note: shuffles only the rows & not the columns!\n",
    "\n",
    "This means that let's say we have a tensor of shape (3, 5, 2) then only the first 2 dimensions will be shuffled.\n",
    "\n",
    "Columns will remain the same."
   ]
  },
  {
   "cell_type": "code",
   "execution_count": 82,
   "metadata": {},
   "outputs": [
    {
     "name": "stdout",
     "output_type": "stream",
     "text": [
      "tf.Tensor(\n",
      "[[[-0.7565803  -0.06854702]\n",
      "  [ 0.07595026 -1.2573844 ]]\n",
      "\n",
      " [[-0.23193763 -1.8107855 ]\n",
      "  [ 0.09988727 -0.50998646]]], shape=(2, 2, 2), dtype=float32) \n",
      "\n",
      "tf.Tensor(\n",
      "[[[-0.23193763 -1.8107855 ]\n",
      "  [ 0.09988727 -0.50998646]]\n",
      "\n",
      " [[-0.7565803  -0.06854702]\n",
      "  [ 0.07595026 -1.2573844 ]]], shape=(2, 2, 2), dtype=float32)\n"
     ]
    }
   ],
   "source": [
    "unshuffled_tensor = tf.random.Generator.from_seed(42)\n",
    "unshuffled_tensor = unshuffled_tensor.normal((2,2,2))\n",
    "\n",
    "print(unshuffled_tensor, \"\\n\")\n",
    "\n",
    "shuffled_tensor = tf.random.shuffle(unshuffled_tensor)\n",
    "\n",
    "print(shuffled_tensor)"
   ]
  },
  {
   "cell_type": "markdown",
   "metadata": {},
   "source": [
    "# Other ways to create tensors"
   ]
  },
  {
   "cell_type": "code",
   "execution_count": 178,
   "metadata": {},
   "outputs": [
    {
     "data": {
      "text/plain": [
       "<tf.Tensor: shape=(2, 2), dtype=float32, numpy=\n",
       "array([[1., 1.],\n",
       "       [1., 1.]], dtype=float32)>"
      ]
     },
     "execution_count": 178,
     "metadata": {},
     "output_type": "execute_result"
    }
   ],
   "source": [
    "# create tensor of all ones\n",
    "tf.ones((2,2))"
   ]
  },
  {
   "cell_type": "code",
   "execution_count": 179,
   "metadata": {},
   "outputs": [
    {
     "data": {
      "text/plain": [
       "<tf.Tensor: shape=(2, 2), dtype=float32, numpy=\n",
       "array([[0., 0.],\n",
       "       [0., 0.]], dtype=float32)>"
      ]
     },
     "execution_count": 179,
     "metadata": {},
     "output_type": "execute_result"
    }
   ],
   "source": [
    "tf.zeros((2,2))"
   ]
  },
  {
   "cell_type": "markdown",
   "metadata": {},
   "source": [
    "## From numpy arrays"
   ]
  },
  {
   "cell_type": "code",
   "execution_count": 186,
   "metadata": {},
   "outputs": [
    {
     "data": {
      "text/plain": [
       "<tf.Tensor: shape=(6, 2, 2), dtype=float32, numpy=\n",
       "array([[[ 1.,  2.],\n",
       "        [ 3.,  4.]],\n",
       "\n",
       "       [[ 5.,  6.],\n",
       "        [ 7.,  8.]],\n",
       "\n",
       "       [[ 9., 10.],\n",
       "        [11., 12.]],\n",
       "\n",
       "       [[13., 14.],\n",
       "        [15., 16.]],\n",
       "\n",
       "       [[17., 18.],\n",
       "        [19., 20.]],\n",
       "\n",
       "       [[21., 22.],\n",
       "        [23., 24.]]], dtype=float32)>"
      ]
     },
     "execution_count": 186,
     "metadata": {},
     "output_type": "execute_result"
    }
   ],
   "source": [
    "arr = np.arange(1, 25)\n",
    "\n",
    "tf.constant(arr, shape=(6,2,2), dtype=tf.float32)"
   ]
  },
  {
   "cell_type": "markdown",
   "metadata": {},
   "source": [
    "# Indexing Tensors"
   ]
  },
  {
   "cell_type": "code",
   "execution_count": 256,
   "metadata": {},
   "outputs": [
    {
     "name": "stdout",
     "output_type": "stream",
     "text": [
      "tf.Tensor(\n",
      "[[[[-0.7565803  -0.06854702  0.07595026]\n",
      "   [-1.2573844  -0.23193763 -1.8107855 ]\n",
      "   [ 0.09988727 -0.50998646 -0.7535805 ]\n",
      "   [-0.57166284  0.1480774  -0.23362993]]\n",
      "\n",
      "  [[-0.3522796   0.40621263 -1.0523509 ]\n",
      "   [ 1.2054597   1.6874489  -0.4462975 ]\n",
      "   [-2.3410842   0.99009085 -0.0876323 ]\n",
      "   [-0.635568   -0.6161736  -1.9441465 ]]\n",
      "\n",
      "  [[-0.48293006 -0.52447474 -1.0345329 ]\n",
      "   [ 1.3066901  -1.5184573  -0.4585211 ]\n",
      "   [ 0.5714663  -1.5331722   0.45331386]\n",
      "   [ 1.1487608  -1.2659091  -0.47450137]]]], shape=(1, 3, 4, 3), dtype=float32)\n",
      "tf.Tensor(\n",
      "[[[[-0.3522796   0.40621263 -1.0523509 ]]\n",
      "\n",
      "  [[-0.48293006 -0.52447474 -1.0345329 ]]]], shape=(1, 2, 1, 3), dtype=float32)\n"
     ]
    }
   ],
   "source": [
    "random_r2_tensor = tf.random.Generator.from_seed(42).normal((2,3,4,3))\n",
    "\n",
    "rank_2_tensor = tf.constant(random_r2_tensor)\n",
    "# print(rank_2_tensor)\n",
    "\n",
    "# get last 2 remaining elements from the columns (,,,3) dimension\n",
    "# print(rank_2_tensor[:, :, :, 1:])\n",
    "\n",
    "print(rank_2_tensor[:1])\n",
    "\n",
    "# get first element from (2) dim, after 1 elements from (3) dim & first element from (4) dim\n",
    "print(rank_2_tensor[:1, 1:, :1])"
   ]
  },
  {
   "cell_type": "markdown",
   "metadata": {},
   "source": [
    "# Expanding Tensors\n",
    "\n",
    "The number of elements remain same, but the rank increases.\n",
    "\n",
    "Using `tf.newaxis` or `tf.expand_dims` re-shapes the data so that there's a whole new dimension.\n",
    "\n",
    "**For example:**\n",
    "Adding a new dimension to the array `[1, 2, 3]` makes it `[ [1], [2], [3] ]` promoting the original array's shape from (3, ) to (3, 1) but the total number of elements remained same before i.e 3 and after i.e 3 * 1 = 3."
   ]
  },
  {
   "cell_type": "markdown",
   "metadata": {},
   "source": [
    "## `tf.newaxis`"
   ]
  },
  {
   "cell_type": "code",
   "execution_count": 270,
   "metadata": {},
   "outputs": [
    {
     "name": "stdout",
     "output_type": "stream",
     "text": [
      "Before: tf.Tensor(\n",
      "[[[-0.7565803  -0.06854702]\n",
      "  [ 0.07595026 -1.2573844 ]\n",
      "  [-0.23193763 -1.8107855 ]\n",
      "  [ 0.09988727 -0.50998646]]\n",
      "\n",
      " [[-0.7535805  -0.57166284]\n",
      "  [ 0.1480774  -0.23362993]\n",
      "  [-0.3522796   0.40621263]\n",
      "  [-1.0523509   1.2054597 ]]\n",
      "\n",
      " [[ 1.6874489  -0.4462975 ]\n",
      "  [-2.3410842   0.99009085]\n",
      "  [-0.0876323  -0.635568  ]\n",
      "  [-0.6161736  -1.9441465 ]]], shape=(3, 4, 2), dtype=float32) \n",
      "\n",
      "After: tf.Tensor(\n",
      "[[[[-0.7565803 ]\n",
      "   [-0.06854702]]\n",
      "\n",
      "  [[ 0.07595026]\n",
      "   [-1.2573844 ]]\n",
      "\n",
      "  [[-0.23193763]\n",
      "   [-1.8107855 ]]\n",
      "\n",
      "  [[ 0.09988727]\n",
      "   [-0.50998646]]]\n",
      "\n",
      "\n",
      " [[[-0.7535805 ]\n",
      "   [-0.57166284]]\n",
      "\n",
      "  [[ 0.1480774 ]\n",
      "   [-0.23362993]]\n",
      "\n",
      "  [[-0.3522796 ]\n",
      "   [ 0.40621263]]\n",
      "\n",
      "  [[-1.0523509 ]\n",
      "   [ 1.2054597 ]]]\n",
      "\n",
      "\n",
      " [[[ 1.6874489 ]\n",
      "   [-0.4462975 ]]\n",
      "\n",
      "  [[-2.3410842 ]\n",
      "   [ 0.99009085]]\n",
      "\n",
      "  [[-0.0876323 ]\n",
      "   [-0.635568  ]]\n",
      "\n",
      "  [[-0.6161736 ]\n",
      "   [-1.9441465 ]]]], shape=(3, 4, 2, 1), dtype=float32)\n",
      "And after... tf.Tensor(\n",
      "[[[[[-0.7565803 ]]\n",
      "\n",
      "   [[-0.06854702]]]\n",
      "\n",
      "\n",
      "  [[[ 0.07595026]]\n",
      "\n",
      "   [[-1.2573844 ]]]\n",
      "\n",
      "\n",
      "  [[[-0.23193763]]\n",
      "\n",
      "   [[-1.8107855 ]]]\n",
      "\n",
      "\n",
      "  [[[ 0.09988727]]\n",
      "\n",
      "   [[-0.50998646]]]]\n",
      "\n",
      "\n",
      "\n",
      " [[[[-0.7535805 ]]\n",
      "\n",
      "   [[-0.57166284]]]\n",
      "\n",
      "\n",
      "  [[[ 0.1480774 ]]\n",
      "\n",
      "   [[-0.23362993]]]\n",
      "\n",
      "\n",
      "  [[[-0.3522796 ]]\n",
      "\n",
      "   [[ 0.40621263]]]\n",
      "\n",
      "\n",
      "  [[[-1.0523509 ]]\n",
      "\n",
      "   [[ 1.2054597 ]]]]\n",
      "\n",
      "\n",
      "\n",
      " [[[[ 1.6874489 ]]\n",
      "\n",
      "   [[-0.4462975 ]]]\n",
      "\n",
      "\n",
      "  [[[-2.3410842 ]]\n",
      "\n",
      "   [[ 0.99009085]]]\n",
      "\n",
      "\n",
      "  [[[-0.0876323 ]]\n",
      "\n",
      "   [[-0.635568  ]]]\n",
      "\n",
      "\n",
      "  [[[-0.6161736 ]]\n",
      "\n",
      "   [[-1.9441465 ]]]]], shape=(3, 4, 2, 1, 1), dtype=float32)\n"
     ]
    }
   ],
   "source": [
    "r2_tensor = tf.random.Generator.from_seed(42).normal((3, 4, 2))\n",
    "\n",
    "r3_tensor = r2_tensor[..., tf.newaxis] # shape = (3, 4, 2, 1)\n",
    "\n",
    "r4_tensor = r3_tensor[..., tf.newaxis] # shape = (3, 4, 2, 1, 1)\n",
    "\n",
    "print(\"Before:\", r2_tensor, \"\\n\")\n",
    "\n",
    "print(\"After:\", r3_tensor)\n",
    "\n",
    "print(\"And after...\", r4_tensor)"
   ]
  },
  {
   "cell_type": "code",
   "execution_count": 273,
   "metadata": {},
   "outputs": [
    {
     "data": {
      "text/plain": [
       "(<tf.Tensor: shape=(3, 4), dtype=float32, numpy=\n",
       " array([[-0.7565803 , -0.06854702,  0.07595026, -1.2573844 ],\n",
       "        [-0.23193763, -1.8107855 ,  0.09988727, -0.50998646],\n",
       "        [-0.7535805 , -0.57166284,  0.1480774 , -0.23362993]],\n",
       "       dtype=float32)>,\n",
       " <tf.Tensor: shape=(3, 1, 4, 1), dtype=float32, numpy=\n",
       " array([[[[-0.7565803 ],\n",
       "          [-0.06854702],\n",
       "          [ 0.07595026],\n",
       "          [-1.2573844 ]]],\n",
       " \n",
       " \n",
       "        [[[-0.23193763],\n",
       "          [-1.8107855 ],\n",
       "          [ 0.09988727],\n",
       "          [-0.50998646]]],\n",
       " \n",
       " \n",
       "        [[[-0.7535805 ],\n",
       "          [-0.57166284],\n",
       "          [ 0.1480774 ],\n",
       "          [-0.23362993]]]], dtype=float32)>)"
      ]
     },
     "execution_count": 273,
     "metadata": {},
     "output_type": "execute_result"
    }
   ],
   "source": [
    "r2_tensor = tf.random.Generator.from_seed(42).normal((3, 4))\n",
    "\n",
    "r4_tensor = r2_tensor[:, tf.newaxis, :, tf.newaxis] # shape = (3, 1, 4, 1)\n",
    "\n",
    "r2_tensor, r4_tensor"
   ]
  },
  {
   "cell_type": "markdown",
   "metadata": {},
   "source": [
    "## `tf.expand_dims()`"
   ]
  },
  {
   "cell_type": "code",
   "execution_count": 281,
   "metadata": {},
   "outputs": [
    {
     "name": "stdout",
     "output_type": "stream",
     "text": [
      "r3_tensor shape: (3, 4, 1)\n",
      "r3_tensor_2 shape: (3, 1, 4)\n"
     ]
    }
   ],
   "source": [
    "r2_tensor = tf.random.Generator.from_seed(42).normal((3, 4))\n",
    "\n",
    "# insert new axis in last\n",
    "r3_tensor = tf.expand_dims(r2_tensor, -1) # shape = (3, 4, ->1<-)\n",
    "\n",
    "# insert new axis at 1th position\n",
    "r3_tensor_2 = tf.expand_dims(r2_tensor, axis=1) # shape = (3, ->1<-, 4)\n",
    "\n",
    "print(f\"r3_tensor shape: {r3_tensor.shape}\")\n",
    "print(f\"r3_tensor_2 shape: {r3_tensor_2.shape}\")"
   ]
  }
 ],
 "metadata": {
  "kernelspec": {
   "display_name": "tf",
   "language": "python",
   "name": "python3"
  },
  "language_info": {
   "codemirror_mode": {
    "name": "ipython",
    "version": 3
   },
   "file_extension": ".py",
   "mimetype": "text/x-python",
   "name": "python",
   "nbconvert_exporter": "python",
   "pygments_lexer": "ipython3",
   "version": "3.11.0"
  },
  "orig_nbformat": 4
 },
 "nbformat": 4,
 "nbformat_minor": 2
}
