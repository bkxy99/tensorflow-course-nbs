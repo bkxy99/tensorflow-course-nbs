{
 "cells": [
  {
   "cell_type": "code",
   "execution_count": 2,
   "metadata": {},
   "outputs": [],
   "source": [
    "import tensorflow as tf\n",
    "import matplotlib.pyplot as plt\n",
    "import numpy as np"
   ]
  },
  {
   "cell_type": "code",
   "execution_count": 3,
   "metadata": {},
   "outputs": [
    {
     "data": {
      "text/plain": [
       "<matplotlib.collections.PathCollection at 0x16486c410>"
      ]
     },
     "execution_count": 3,
     "metadata": {},
     "output_type": "execute_result"
    },
    {
     "data": {
      "image/png": "[encoded data removed]",
      "text/plain": [
       "<Figure size 640x480 with 1 Axes>"
      ]
     },
     "metadata": {},
     "output_type": "display_data"
    }
   ],
   "source": [
    "# Features\n",
    "X = np.array([-7.0, -4.0, -1.0, 2.0, 5.0, 8.0, 11.0, 14.0])\n",
    "\n",
    "y = np.array([3.0, 6.0, 9.0, 12.0, 15.0, 18.0, 21.0, 24.0])\n",
    "\n",
    "plt.scatter(X, y)"
   ]
  },
  {
   "cell_type": "code",
   "execution_count": 4,
   "metadata": {},
   "outputs": [
    {
     "data": {
      "text/plain": [
       "array([ True,  True,  True,  True,  True,  True,  True,  True])"
      ]
     },
     "execution_count": 4,
     "metadata": {},
     "output_type": "execute_result"
    }
   ],
   "source": [
    "y == X + 10"
   ]
  },
  {
   "cell_type": "code",
   "execution_count": 5,
   "metadata": {},
   "outputs": [
    {
     "data": {
      "text/plain": [
       "(<tf.Tensor: shape=(3,), dtype=string, numpy=array([b'bedroom', b'bathroom', b'garage'], dtype=object)>,\n",
       " <tf.Tensor: shape=(1,), dtype=int32, numpy=array([939700], dtype=int32)>)"
      ]
     },
     "execution_count": 5,
     "metadata": {},
     "output_type": "execute_result"
    }
   ],
   "source": [
    "house_info = tf.constant([\"bedroom\", \"bathroom\", \"garage\"])\n",
    "house_price = tf.constant([939700])\n",
    "\n",
    "house_info, house_price"
   ]
  },
  {
   "cell_type": "markdown",
   "metadata": {},
   "source": [
    "## MAE"
   ]
  },
  {
   "cell_type": "code",
   "execution_count": 30,
   "metadata": {},
   "outputs": [
    {
     "name": "stderr",
     "output_type": "stream",
     "text": [
      "WARNING:absl:At this time, the v2.11+ optimizer `tf.keras.optimizers.Adam` runs slowly on M1/M2 Macs, please use the legacy Keras optimizer instead, located at `tf.keras.optimizers.legacy.Adam`.\n",
      "WARNING:absl:There is a known slowdown when using v2.11+ Keras optimizers on M1/M2 Macs. Falling back to the legacy Keras optimizer, i.e., `tf.keras.optimizers.legacy.Adam`.\n"
     ]
    },
    {
     "name": "stdout",
     "output_type": "stream",
     "text": [
      "Epoch 1/100\n",
      "1/1 [==============================] - 0s 109ms/step - loss: 9.3020 - mae: 9.3020\n",
      "Epoch 2/100\n",
      "1/1 [==============================] - 0s 2ms/step - loss: 9.3015 - mae: 9.3015\n",
      "Epoch 3/100\n",
      "1/1 [==============================] - 0s 2ms/step - loss: 9.3011 - mae: 9.3011\n",
      "Epoch 4/100\n",
      "1/1 [==============================] - 0s 2ms/step - loss: 9.3006 - mae: 9.3006\n",
      "Epoch 5/100\n",
      "1/1 [==============================] - 0s 1ms/step - loss: 9.3002 - mae: 9.3002\n",
      "Epoch 6/100\n",
      "1/1 [==============================] - 0s 2ms/step - loss: 9.2997 - mae: 9.2997\n",
      "Epoch 7/100\n",
      "1/1 [==============================] - 0s 2ms/step - loss: 9.2993 - mae: 9.2993\n",
      "Epoch 8/100\n",
      "1/1 [==============================] - 0s 2ms/step - loss: 9.2988 - mae: 9.2988\n",
      "Epoch 9/100\n",
      "1/1 [==============================] - 0s 2ms/step - loss: 9.2984 - mae: 9.2984\n",
      "Epoch 10/100\n",
      "1/1 [==============================] - 0s 2ms/step - loss: 9.2979 - mae: 9.2979\n",
      "Epoch 11/100\n",
      "1/1 [==============================] - 0s 2ms/step - loss: 9.2975 - mae: 9.2975\n",
      "Epoch 12/100\n",
      "1/1 [==============================] - 0s 3ms/step - loss: 9.2970 - mae: 9.2970\n",
      "Epoch 13/100\n",
      "1/1 [==============================] - 0s 2ms/step - loss: 9.2966 - mae: 9.2966\n",
      "Epoch 14/100\n",
      "1/1 [==============================] - 0s 2ms/step - loss: 9.2961 - mae: 9.2961\n",
      "Epoch 15/100\n",
      "1/1 [==============================] - 0s 2ms/step - loss: 9.2957 - mae: 9.2957\n",
      "Epoch 16/100\n",
      "1/1 [==============================] - 0s 2ms/step - loss: 9.2952 - mae: 9.2952\n",
      "Epoch 17/100\n",
      "1/1 [==============================] - 0s 2ms/step - loss: 9.2948 - mae: 9.2948\n",
      "Epoch 18/100\n",
      "1/1 [==============================] - 0s 2ms/step - loss: 9.2943 - mae: 9.2943\n",
      "Epoch 19/100\n",
      "1/1 [==============================] - 0s 2ms/step - loss: 9.2939 - mae: 9.2939\n",
      "Epoch 20/100\n",
      "1/1 [==============================] - 0s 2ms/step - loss: 9.2934 - mae: 9.2934\n",
      "Epoch 21/100\n",
      "1/1 [==============================] - 0s 2ms/step - loss: 9.2930 - mae: 9.2930\n",
      "Epoch 22/100\n",
      "1/1 [==============================] - 0s 2ms/step - loss: 9.2925 - mae: 9.2925\n",
      "Epoch 23/100\n",
      "1/1 [==============================] - 0s 2ms/step - loss: 9.2921 - mae: 9.2921\n",
      "Epoch 24/100\n",
      "1/1 [==============================] - 0s 2ms/step - loss: 9.2916 - mae: 9.2916\n",
      "Epoch 25/100\n",
      "1/1 [==============================] - 0s 3ms/step - loss: 9.2912 - mae: 9.2912\n",
      "Epoch 26/100\n",
      "1/1 [==============================] - 0s 2ms/step - loss: 9.2907 - mae: 9.2907\n",
      "Epoch 27/100\n",
      "1/1 [==============================] - 0s 2ms/step - loss: 9.2903 - mae: 9.2903\n",
      "Epoch 28/100\n",
      "1/1 [==============================] - 0s 2ms/step - loss: 9.2898 - mae: 9.2898\n",
      "Epoch 29/100\n",
      "1/1 [==============================] - 0s 2ms/step - loss: 9.2894 - mae: 9.2894\n",
      "Epoch 30/100\n",
      "1/1 [==============================] - 0s 2ms/step - loss: 9.2889 - mae: 9.2889\n",
      "Epoch 31/100\n",
      "1/1 [==============================] - 0s 2ms/step - loss: 9.2885 - mae: 9.2885\n",
      "Epoch 32/100\n",
      "1/1 [==============================] - 0s 2ms/step - loss: 9.2880 - mae: 9.2880\n",
      "Epoch 33/100\n",
      "1/1 [==============================] - 0s 1ms/step - loss: 9.2876 - mae: 9.2876\n",
      "Epoch 34/100\n",
      "1/1 [==============================] - 0s 2ms/step - loss: 9.2871 - mae: 9.2871\n",
      "Epoch 35/100\n",
      "1/1 [==============================] - 0s 2ms/step - loss: 9.2867 - mae: 9.2867\n",
      "Epoch 36/100\n",
      "1/1 [==============================] - 0s 2ms/step - loss: 9.2862 - mae: 9.2862\n",
      "Epoch 37/100\n",
      "1/1 [==============================] - 0s 2ms/step - loss: 9.2858 - mae: 9.2858\n",
      "Epoch 38/100\n",
      "1/1 [==============================] - 0s 3ms/step - loss: 9.2853 - mae: 9.2853\n",
      "Epoch 39/100\n",
      "1/1 [==============================] - 0s 2ms/step - loss: 9.2849 - mae: 9.2849\n",
      "Epoch 40/100\n",
      "1/1 [==============================] - 0s 2ms/step - loss: 9.2844 - mae: 9.2844\n",
      "Epoch 41/100\n",
      "1/1 [==============================] - 0s 2ms/step - loss: 9.2840 - mae: 9.2840\n",
      "Epoch 42/100\n",
      "1/1 [==============================] - 0s 1ms/step - loss: 9.2835 - mae: 9.2835\n",
      "Epoch 43/100\n",
      "1/1 [==============================] - 0s 2ms/step - loss: 9.2831 - mae: 9.2831\n",
      "Epoch 44/100\n",
      "1/1 [==============================] - 0s 2ms/step - loss: 9.2826 - mae: 9.2826\n",
      "Epoch 45/100\n",
      "1/1 [==============================] - 0s 2ms/step - loss: 9.2822 - mae: 9.2822\n",
      "Epoch 46/100\n",
      "1/1 [==============================] - 0s 2ms/step - loss: 9.2817 - mae: 9.2817\n",
      "Epoch 47/100\n",
      "1/1 [==============================] - 0s 2ms/step - loss: 9.2813 - mae: 9.2813\n",
      "Epoch 48/100\n",
      "1/1 [==============================] - 0s 2ms/step - loss: 9.2808 - mae: 9.2808\n",
      "Epoch 49/100\n",
      "1/1 [==============================] - 0s 2ms/step - loss: 9.2804 - mae: 9.2804\n",
      "Epoch 50/100\n",
      "1/1 [==============================] - 0s 2ms/step - loss: 9.2799 - mae: 9.2799\n",
      "Epoch 51/100\n",
      "1/1 [==============================] - 0s 2ms/step - loss: 9.2795 - mae: 9.2795\n",
      "Epoch 52/100\n",
      "1/1 [==============================] - 0s 2ms/step - loss: 9.2790 - mae: 9.2790\n",
      "Epoch 53/100\n",
      "1/1 [==============================] - 0s 1ms/step - loss: 9.2786 - mae: 9.2786\n",
      "Epoch 54/100\n",
      "1/1 [==============================] - 0s 2ms/step - loss: 9.2781 - mae: 9.2781\n",
      "Epoch 55/100\n",
      "1/1 [==============================] - 0s 2ms/step - loss: 9.2777 - mae: 9.2777\n",
      "Epoch 56/100\n",
      "1/1 [==============================] - 0s 2ms/step - loss: 9.2772 - mae: 9.2772\n",
      "Epoch 57/100\n",
      "1/1 [==============================] - 0s 2ms/step - loss: 9.2768 - mae: 9.2768\n",
      "Epoch 58/100\n",
      "1/1 [==============================] - 0s 3ms/step - loss: 9.2763 - mae: 9.2763\n",
      "Epoch 59/100\n",
      "1/1 [==============================] - 0s 2ms/step - loss: 9.2759 - mae: 9.2759\n",
      "Epoch 60/100\n",
      "1/1 [==============================] - 0s 2ms/step - loss: 9.2754 - mae: 9.2754\n",
      "Epoch 61/100\n",
      "1/1 [==============================] - 0s 2ms/step - loss: 9.2750 - mae: 9.2750\n",
      "Epoch 62/100\n",
      "1/1 [==============================] - 0s 2ms/step - loss: 9.2745 - mae: 9.2745\n",
      "Epoch 63/100\n",
      "1/1 [==============================] - 0s 2ms/step - loss: 9.2741 - mae: 9.2741\n",
      "Epoch 64/100\n",
      "1/1 [==============================] - 0s 2ms/step - loss: 9.2736 - mae: 9.2736\n",
      "Epoch 65/100\n",
      "1/1 [==============================] - 0s 2ms/step - loss: 9.2732 - mae: 9.2732\n",
      "Epoch 66/100\n",
      "1/1 [==============================] - 0s 1ms/step - loss: 9.2727 - mae: 9.2727\n",
      "Epoch 67/100\n",
      "1/1 [==============================] - 0s 2ms/step - loss: 9.2723 - mae: 9.2723\n",
      "Epoch 68/100\n",
      "1/1 [==============================] - 0s 1ms/step - loss: 9.2718 - mae: 9.2718\n",
      "Epoch 69/100\n",
      "1/1 [==============================] - 0s 2ms/step - loss: 9.2714 - mae: 9.2714\n",
      "Epoch 70/100\n",
      "1/1 [==============================] - 0s 2ms/step - loss: 9.2709 - mae: 9.2709\n",
      "Epoch 71/100\n",
      "1/1 [==============================] - 0s 2ms/step - loss: 9.2705 - mae: 9.2705\n",
      "Epoch 72/100\n",
      "1/1 [==============================] - 0s 2ms/step - loss: 9.2700 - mae: 9.2700\n",
      "Epoch 73/100\n",
      "1/1 [==============================] - 0s 1ms/step - loss: 9.2696 - mae: 9.2696\n",
      "Epoch 74/100\n",
      "1/1 [==============================] - 0s 2ms/step - loss: 9.2691 - mae: 9.2691\n",
      "Epoch 75/100\n",
      "1/1 [==============================] - 0s 2ms/step - loss: 9.2687 - mae: 9.2687\n",
      "Epoch 76/100\n",
      "1/1 [==============================] - 0s 2ms/step - loss: 9.2682 - mae: 9.2682\n",
      "Epoch 77/100\n",
      "1/1 [==============================] - 0s 2ms/step - loss: 9.2678 - mae: 9.2678\n",
      "Epoch 78/100\n",
      "1/1 [==============================] - 0s 1ms/step - loss: 9.2673 - mae: 9.2673\n",
      "Epoch 79/100\n",
      "1/1 [==============================] - 0s 2ms/step - loss: 9.2669 - mae: 9.2669\n",
      "Epoch 80/100\n",
      "1/1 [==============================] - 0s 2ms/step - loss: 9.2664 - mae: 9.2664\n",
      "Epoch 81/100\n",
      "1/1 [==============================] - 0s 2ms/step - loss: 9.2660 - mae: 9.2660\n",
      "Epoch 82/100\n",
      "1/1 [==============================] - 0s 2ms/step - loss: 9.2655 - mae: 9.2655\n",
      "Epoch 83/100\n",
      "1/1 [==============================] - 0s 2ms/step - loss: 9.2651 - mae: 9.2651\n",
      "Epoch 84/100\n",
      "1/1 [==============================] - 0s 2ms/step - loss: 9.2646 - mae: 9.2646\n",
      "Epoch 85/100\n",
      "1/1 [==============================] - 0s 2ms/step - loss: 9.2642 - mae: 9.2642\n",
      "Epoch 86/100\n",
      "1/1 [==============================] - 0s 2ms/step - loss: 9.2637 - mae: 9.2637\n",
      "Epoch 87/100\n",
      "1/1 [==============================] - 0s 2ms/step - loss: 9.2633 - mae: 9.2633\n",
      "Epoch 88/100\n",
      "1/1 [==============================] - 0s 3ms/step - loss: 9.2628 - mae: 9.2628\n",
      "Epoch 89/100\n",
      "1/1 [==============================] - 0s 3ms/step - loss: 9.2624 - mae: 9.2624\n",
      "Epoch 90/100\n",
      "1/1 [==============================] - 0s 2ms/step - loss: 9.2619 - mae: 9.2619\n",
      "Epoch 91/100\n",
      "1/1 [==============================] - 0s 2ms/step - loss: 9.2615 - mae: 9.2615\n",
      "Epoch 92/100\n",
      "1/1 [==============================] - 0s 3ms/step - loss: 9.2610 - mae: 9.2610\n",
      "Epoch 93/100\n",
      "1/1 [==============================] - 0s 2ms/step - loss: 9.2606 - mae: 9.2606\n",
      "Epoch 94/100\n",
      "1/1 [==============================] - 0s 2ms/step - loss: 9.2601 - mae: 9.2601\n",
      "Epoch 95/100\n",
      "1/1 [==============================] - 0s 2ms/step - loss: 9.2597 - mae: 9.2597\n",
      "Epoch 96/100\n",
      "1/1 [==============================] - 0s 2ms/step - loss: 9.2592 - mae: 9.2592\n",
      "Epoch 97/100\n",
      "1/1 [==============================] - 0s 2ms/step - loss: 9.2588 - mae: 9.2588\n",
      "Epoch 98/100\n",
      "1/1 [==============================] - 0s 2ms/step - loss: 9.2583 - mae: 9.2583\n",
      "Epoch 99/100\n",
      "1/1 [==============================] - 0s 2ms/step - loss: 9.2579 - mae: 9.2579\n",
      "Epoch 100/100\n",
      "1/1 [==============================] - 0s 2ms/step - loss: 9.2574 - mae: 9.2574\n"
     ]
    },
    {
     "data": {
      "text/plain": [
       "<keras.src.callbacks.History at 0x16573c910>"
      ]
     },
     "execution_count": 30,
     "metadata": {},
     "output_type": "execute_result"
    }
   ],
   "source": [
    "tf.random.set_seed(42)\n",
    "\n",
    "mae_model = tf.keras.Sequential([\n",
    "    tf.keras.layers.Dense(1), # no. of units taking in the input (in this case only one number)\n",
    "])\n",
    "\n",
    "mae_model.compile(loss=tf.keras.losses.mae, optimizer=tf.keras.optimizers.Adam(learning_rate=0.0001), metrics=[\"mae\"] )\n",
    "\n",
    "mae_model.fit(tf.expand_dims(X, axis=1), y, epochs=100)"
   ]
  },
  {
   "cell_type": "code",
   "execution_count": 31,
   "metadata": {},
   "outputs": [
    {
     "name": "stdout",
     "output_type": "stream",
     "text": [
      "1/1 [==============================] - 0s 31ms/step\n"
     ]
    },
    {
     "data": {
      "text/plain": [
       "array([[20.570457]], dtype=float32)"
      ]
     },
     "execution_count": 31,
     "metadata": {},
     "output_type": "execute_result"
    }
   ],
   "source": [
    "mae_model.predict([ [17.0] ])"
   ]
  },
  {
   "cell_type": "code",
   "execution_count": 66,
   "metadata": {},
   "outputs": [
    {
     "name": "stderr",
     "output_type": "stream",
     "text": [
      "WARNING:absl:At this time, the v2.11+ optimizer `tf.keras.optimizers.SGD` runs slowly on M1/M2 Macs, please use the legacy Keras optimizer instead, located at `tf.keras.optimizers.legacy.SGD`.\n",
      "WARNING:absl:There is a known slowdown when using v2.11+ Keras optimizers on M1/M2 Macs. Falling back to the legacy Keras optimizer, i.e., `tf.keras.optimizers.legacy.SGD`.\n"
     ]
    },
    {
     "name": "stdout",
     "output_type": "stream",
     "text": [
      "Epoch 1/100\n",
      "1/1 [==============================] - 0s 115ms/step - loss: 143.0902 - mse: 143.0902\n",
      "Epoch 2/100\n",
      "1/1 [==============================] - 0s 2ms/step - loss: 922.3360 - mse: 922.3360\n",
      "Epoch 3/100\n",
      "1/1 [==============================] - 0s 2ms/step - loss: 242324.1250 - mse: 242324.1250\n",
      "Epoch 4/100\n",
      "1/1 [==============================] - 0s 1ms/step - loss: 8062964334592.0000 - mse: 8062964334592.0000\n",
      "Epoch 5/100\n",
      "1/1 [==============================] - 0s 2ms/step - loss: 299005461151502067659114200917082112.0000 - mse: 299005461151502067659114200917082112.0000\n",
      "Epoch 6/100\n",
      "1/1 [==============================] - 0s 2ms/step - loss: nan - mse: nan\n",
      "Epoch 7/100\n",
      "1/1 [==============================] - 0s 3ms/step - loss: nan - mse: nan\n",
      "Epoch 8/100\n",
      "1/1 [==============================] - 0s 2ms/step - loss: nan - mse: nan\n",
      "Epoch 9/100\n",
      "1/1 [==============================] - 0s 2ms/step - loss: nan - mse: nan\n",
      "Epoch 10/100\n",
      "1/1 [==============================] - 0s 2ms/step - loss: nan - mse: nan\n",
      "Epoch 11/100\n",
      "1/1 [==============================] - 0s 2ms/step - loss: nan - mse: nan\n",
      "Epoch 12/100\n",
      "1/1 [==============================] - 0s 2ms/step - loss: nan - mse: nan\n",
      "Epoch 13/100\n",
      "1/1 [==============================] - 0s 3ms/step - loss: nan - mse: nan\n",
      "Epoch 14/100\n",
      "1/1 [==============================] - 0s 2ms/step - loss: nan - mse: nan\n",
      "Epoch 15/100\n",
      "1/1 [==============================] - 0s 2ms/step - loss: nan - mse: nan\n",
      "Epoch 16/100\n",
      "1/1 [==============================] - 0s 2ms/step - loss: nan - mse: nan\n",
      "Epoch 17/100\n",
      "1/1 [==============================] - 0s 2ms/step - loss: nan - mse: nan\n",
      "Epoch 18/100\n",
      "1/1 [==============================] - 0s 2ms/step - loss: nan - mse: nan\n",
      "Epoch 19/100\n",
      "1/1 [==============================] - 0s 2ms/step - loss: nan - mse: nan\n",
      "Epoch 20/100\n",
      "1/1 [==============================] - 0s 2ms/step - loss: nan - mse: nan\n",
      "Epoch 21/100\n",
      "1/1 [==============================] - 0s 2ms/step - loss: nan - mse: nan\n",
      "Epoch 22/100\n",
      "1/1 [==============================] - 0s 2ms/step - loss: nan - mse: nan\n",
      "Epoch 23/100\n",
      "1/1 [==============================] - 0s 3ms/step - loss: nan - mse: nan\n",
      "Epoch 24/100\n",
      "1/1 [==============================] - 0s 2ms/step - loss: nan - mse: nan\n",
      "Epoch 25/100\n",
      "1/1 [==============================] - 0s 2ms/step - loss: nan - mse: nan\n",
      "Epoch 26/100\n",
      "1/1 [==============================] - 0s 2ms/step - loss: nan - mse: nan\n",
      "Epoch 27/100\n",
      "1/1 [==============================] - 0s 2ms/step - loss: nan - mse: nan\n",
      "Epoch 28/100\n",
      "1/1 [==============================] - 0s 2ms/step - loss: nan - mse: nan\n",
      "Epoch 29/100\n",
      "1/1 [==============================] - 0s 2ms/step - loss: nan - mse: nan\n",
      "Epoch 30/100\n",
      "1/1 [==============================] - 0s 3ms/step - loss: nan - mse: nan\n",
      "Epoch 31/100\n",
      "1/1 [==============================] - 0s 2ms/step - loss: nan - mse: nan\n",
      "Epoch 32/100\n",
      "1/1 [==============================] - 0s 2ms/step - loss: nan - mse: nan\n",
      "Epoch 33/100\n",
      "1/1 [==============================] - 0s 2ms/step - loss: nan - mse: nan\n",
      "Epoch 34/100\n",
      "1/1 [==============================] - 0s 2ms/step - loss: nan - mse: nan\n",
      "Epoch 35/100\n",
      "1/1 [==============================] - 0s 2ms/step - loss: nan - mse: nan\n",
      "Epoch 36/100\n",
      "1/1 [==============================] - 0s 2ms/step - loss: nan - mse: nan\n",
      "Epoch 37/100\n",
      "1/1 [==============================] - 0s 2ms/step - loss: nan - mse: nan\n",
      "Epoch 38/100\n",
      "1/1 [==============================] - 0s 2ms/step - loss: nan - mse: nan\n",
      "Epoch 39/100\n",
      "1/1 [==============================] - 0s 2ms/step - loss: nan - mse: nan\n",
      "Epoch 40/100\n",
      "1/1 [==============================] - 0s 2ms/step - loss: nan - mse: nan\n",
      "Epoch 41/100\n",
      "1/1 [==============================] - 0s 2ms/step - loss: nan - mse: nan\n",
      "Epoch 42/100\n",
      "1/1 [==============================] - 0s 2ms/step - loss: nan - mse: nan\n",
      "Epoch 43/100\n",
      "1/1 [==============================] - 0s 2ms/step - loss: nan - mse: nan\n",
      "Epoch 44/100\n",
      "1/1 [==============================] - 0s 2ms/step - loss: nan - mse: nan\n",
      "Epoch 45/100\n",
      "1/1 [==============================] - 0s 2ms/step - loss: nan - mse: nan\n",
      "Epoch 46/100\n",
      "1/1 [==============================] - 0s 3ms/step - loss: nan - mse: nan\n",
      "Epoch 47/100\n",
      "1/1 [==============================] - 0s 3ms/step - loss: nan - mse: nan\n",
      "Epoch 48/100\n",
      "1/1 [==============================] - 0s 2ms/step - loss: nan - mse: nan\n",
      "Epoch 49/100\n",
      "1/1 [==============================] - 0s 3ms/step - loss: nan - mse: nan\n",
      "Epoch 50/100\n",
      "1/1 [==============================] - 0s 3ms/step - loss: nan - mse: nan\n",
      "Epoch 51/100\n",
      "1/1 [==============================] - 0s 2ms/step - loss: nan - mse: nan\n",
      "Epoch 52/100\n",
      "1/1 [==============================] - 0s 3ms/step - loss: nan - mse: nan\n",
      "Epoch 53/100\n",
      "1/1 [==============================] - 0s 2ms/step - loss: nan - mse: nan\n",
      "Epoch 54/100\n",
      "1/1 [==============================] - 0s 2ms/step - loss: nan - mse: nan\n",
      "Epoch 55/100\n",
      "1/1 [==============================] - 0s 2ms/step - loss: nan - mse: nan\n",
      "Epoch 56/100\n",
      "1/1 [==============================] - 0s 2ms/step - loss: nan - mse: nan\n",
      "Epoch 57/100\n",
      "1/1 [==============================] - 0s 2ms/step - loss: nan - mse: nan\n",
      "Epoch 58/100\n",
      "1/1 [==============================] - 0s 2ms/step - loss: nan - mse: nan\n",
      "Epoch 59/100\n",
      "1/1 [==============================] - 0s 2ms/step - loss: nan - mse: nan\n",
      "Epoch 60/100\n",
      "1/1 [==============================] - 0s 2ms/step - loss: nan - mse: nan\n",
      "Epoch 61/100\n",
      "1/1 [==============================] - 0s 2ms/step - loss: nan - mse: nan\n",
      "Epoch 62/100\n",
      "1/1 [==============================] - 0s 2ms/step - loss: nan - mse: nan\n",
      "Epoch 63/100\n",
      "1/1 [==============================] - 0s 2ms/step - loss: nan - mse: nan\n",
      "Epoch 64/100\n",
      "1/1 [==============================] - 0s 2ms/step - loss: nan - mse: nan\n",
      "Epoch 65/100\n",
      "1/1 [==============================] - 0s 2ms/step - loss: nan - mse: nan\n",
      "Epoch 66/100\n",
      "1/1 [==============================] - 0s 2ms/step - loss: nan - mse: nan\n",
      "Epoch 67/100\n",
      "1/1 [==============================] - 0s 2ms/step - loss: nan - mse: nan\n",
      "Epoch 68/100\n",
      "1/1 [==============================] - 0s 2ms/step - loss: nan - mse: nan\n",
      "Epoch 69/100\n",
      "1/1 [==============================] - 0s 2ms/step - loss: nan - mse: nan\n",
      "Epoch 70/100\n",
      "1/1 [==============================] - 0s 2ms/step - loss: nan - mse: nan\n",
      "Epoch 71/100\n",
      "1/1 [==============================] - 0s 2ms/step - loss: nan - mse: nan\n",
      "Epoch 72/100\n",
      "1/1 [==============================] - 0s 3ms/step - loss: nan - mse: nan\n",
      "Epoch 73/100\n",
      "1/1 [==============================] - 0s 2ms/step - loss: nan - mse: nan\n",
      "Epoch 74/100\n",
      "1/1 [==============================] - 0s 2ms/step - loss: nan - mse: nan\n",
      "Epoch 75/100\n",
      "1/1 [==============================] - 0s 2ms/step - loss: nan - mse: nan\n",
      "Epoch 76/100\n",
      "1/1 [==============================] - 0s 2ms/step - loss: nan - mse: nan\n",
      "Epoch 77/100\n",
      "1/1 [==============================] - 0s 2ms/step - loss: nan - mse: nan\n",
      "Epoch 78/100\n",
      "1/1 [==============================] - 0s 3ms/step - loss: nan - mse: nan\n",
      "Epoch 79/100\n",
      "1/1 [==============================] - 0s 4ms/step - loss: nan - mse: nan\n",
      "Epoch 80/100\n",
      "1/1 [==============================] - 0s 6ms/step - loss: nan - mse: nan\n",
      "Epoch 81/100\n",
      "1/1 [==============================] - 0s 2ms/step - loss: nan - mse: nan\n",
      "Epoch 82/100\n",
      "1/1 [==============================] - 0s 2ms/step - loss: nan - mse: nan\n",
      "Epoch 83/100\n",
      "1/1 [==============================] - 0s 2ms/step - loss: nan - mse: nan\n",
      "Epoch 84/100\n",
      "1/1 [==============================] - 0s 2ms/step - loss: nan - mse: nan\n",
      "Epoch 85/100\n",
      "1/1 [==============================] - 0s 2ms/step - loss: nan - mse: nan\n",
      "Epoch 86/100\n",
      "1/1 [==============================] - 0s 2ms/step - loss: nan - mse: nan\n",
      "Epoch 87/100\n",
      "1/1 [==============================] - 0s 2ms/step - loss: nan - mse: nan\n",
      "Epoch 88/100\n",
      "1/1 [==============================] - 0s 2ms/step - loss: nan - mse: nan\n",
      "Epoch 89/100\n",
      "1/1 [==============================] - 0s 2ms/step - loss: nan - mse: nan\n",
      "Epoch 90/100\n",
      "1/1 [==============================] - 0s 2ms/step - loss: nan - mse: nan\n",
      "Epoch 91/100\n",
      "1/1 [==============================] - 0s 2ms/step - loss: nan - mse: nan\n",
      "Epoch 92/100\n",
      "1/1 [==============================] - 0s 2ms/step - loss: nan - mse: nan\n",
      "Epoch 93/100\n",
      "1/1 [==============================] - 0s 2ms/step - loss: nan - mse: nan\n",
      "Epoch 94/100\n",
      "1/1 [==============================] - 0s 2ms/step - loss: nan - mse: nan\n",
      "Epoch 95/100\n",
      "1/1 [==============================] - 0s 2ms/step - loss: nan - mse: nan\n",
      "Epoch 96/100\n",
      "1/1 [==============================] - 0s 2ms/step - loss: nan - mse: nan\n",
      "Epoch 97/100\n",
      "1/1 [==============================] - 0s 2ms/step - loss: nan - mse: nan\n",
      "Epoch 98/100\n",
      "1/1 [==============================] - 0s 2ms/step - loss: nan - mse: nan\n",
      "Epoch 99/100\n",
      "1/1 [==============================] - 0s 3ms/step - loss: nan - mse: nan\n",
      "Epoch 100/100\n",
      "1/1 [==============================] - 0s 2ms/step - loss: nan - mse: nan\n"
     ]
    },
    {
     "data": {
      "text/plain": [
       "<keras.src.callbacks.History at 0x176033f90>"
      ]
     },
     "execution_count": 66,
     "metadata": {},
     "output_type": "execute_result"
    }
   ],
   "source": [
    "tf.random.set_seed(42)\n",
    "\n",
    "# Create the model with sequential API\n",
    "mse_model = tf.keras.Sequential([\n",
    "    tf.keras.layers.Dense(10),\n",
    "    tf.keras.layers.Dense(1)\n",
    "])\n",
    "\n",
    "mse_model.compile(optimizer=tf.keras.optimizers.SGD(), loss=\"mse\", metrics=[\"mse\"])\n",
    "\n",
    "mse_model.fit(tf.expand_dims(X, axis=1), y, epochs=100)"
   ]
  },
  {
   "cell_type": "code",
   "execution_count": 64,
   "metadata": {},
   "outputs": [
    {
     "name": "stdout",
     "output_type": "stream",
     "text": [
      "1/1 [==============================] - 0s 33ms/step\n"
     ]
    },
    {
     "data": {
      "text/plain": [
       "array([[27.111399]], dtype=float32)"
      ]
     },
     "execution_count": 64,
     "metadata": {},
     "output_type": "execute_result"
    }
   ],
   "source": [
    "mse_model.predict([ [17.0] ])"
   ]
  }
 ],
 "metadata": {
  "kernelspec": {
   "display_name": "Python 3",
   "language": "python",
   "name": "python3"
  },
  "language_info": {
   "codemirror_mode": {
    "name": "ipython",
    "version": 3
   },
   "file_extension": ".py",
   "mimetype": "text/x-python",
   "name": "python",
   "nbconvert_exporter": "python",
   "pygments_lexer": "ipython3",
   "version": "3.11.0"
  },
  "orig_nbformat": 4
 },
 "nbformat": 4,
 "nbformat_minor": 2
}
