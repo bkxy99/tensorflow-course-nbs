{
 "cells": [
  {
   "cell_type": "code",
   "execution_count": 2,
   "metadata": {},
   "outputs": [],
   "source": [
    "import tensorflow as tf\n",
    "import numpy as np\n",
    "import matplotlib.pyplot as plt\n",
    "from tensorflow.keras.utils import plot_model"
   ]
  },
  {
   "cell_type": "code",
   "execution_count": 3,
   "metadata": {},
   "outputs": [],
   "source": [
    "X = tf.range(-100, 100, 2)\n",
    "y = 3 * X ** 2 + X + 5"
   ]
  },
  {
   "cell_type": "code",
   "execution_count": 4,
   "metadata": {},
   "outputs": [],
   "source": [
    "train_test_split_at = 100 * 0.8\n",
    "\n",
    "X_train = X[:int(train_test_split_at)]\n",
    "y_train = y[:int(train_test_split_at)]\n",
    "\n",
    "X_test = X[int(train_test_split_at):]\n",
    "y_test = y[int(train_test_split_at):]"
   ]
  },
  {
   "cell_type": "code",
   "execution_count": 5,
   "metadata": {},
   "outputs": [
    {
     "name": "stderr",
     "output_type": "stream",
     "text": [
      "WARNING:absl:At this time, the v2.11+ optimizer `tf.keras.optimizers.Adam` runs slowly on M1/M2 Macs, please use the legacy Keras optimizer instead, located at `tf.keras.optimizers.legacy.Adam`.\n",
      "WARNING:absl:There is a known slowdown when using v2.11+ Keras optimizers on M1/M2 Macs. Falling back to the legacy Keras optimizer, i.e., `tf.keras.optimizers.legacy.Adam`.\n"
     ]
    }
   ],
   "source": [
    "model = tf.keras.Sequential([\n",
    "    tf.keras.layers.Dense(10),\n",
    "    tf.keras.layers.Dense(10),\n",
    "    tf.keras.layers.Dense(1)\n",
    "], name=\"model1\")\n",
    "\n",
    "model.compile(\n",
    "    optimizer=tf.keras.optimizers.Adam(),\n",
    "    loss=\"mae\",\n",
    "    metrics=[\"mae\", \"accuracy\"]\n",
    ")"
   ]
  },
  {
   "cell_type": "code",
   "execution_count": 6,
   "metadata": {},
   "outputs": [
    {
     "name": "stdout",
     "output_type": "stream",
     "text": [
      "Epoch 1/100\n"
     ]
    },
    {
     "name": "stdout",
     "output_type": "stream",
     "text": [
      "3/3 [==============================] - 0s 2ms/step - loss: 7712.5156 - mae: 7712.5156 - accuracy: 0.0000e+00\n",
      "Epoch 2/100\n",
      "3/3 [==============================] - 0s 1ms/step - loss: 7711.4282 - mae: 7711.4282 - accuracy: 0.0000e+00\n",
      "Epoch 3/100\n",
      "3/3 [==============================] - 0s 1ms/step - loss: 7710.3296 - mae: 7710.3296 - accuracy: 0.0000e+00\n",
      "Epoch 4/100\n",
      "3/3 [==============================] - 0s 998us/step - loss: 7709.3452 - mae: 7709.3452 - accuracy: 0.0000e+00\n",
      "Epoch 5/100\n",
      "3/3 [==============================] - 0s 1ms/step - loss: 7708.2998 - mae: 7708.2998 - accuracy: 0.0000e+00\n",
      "Epoch 6/100\n",
      "3/3 [==============================] - 0s 1ms/step - loss: 7707.3467 - mae: 7707.3467 - accuracy: 0.0000e+00\n",
      "Epoch 7/100\n",
      "3/3 [==============================] - 0s 1ms/step - loss: 7706.3740 - mae: 7706.3740 - accuracy: 0.0000e+00\n",
      "Epoch 8/100\n",
      "3/3 [==============================] - 0s 1ms/step - loss: 7705.2725 - mae: 7705.2725 - accuracy: 0.0000e+00\n",
      "Epoch 9/100\n",
      "3/3 [==============================] - 0s 1ms/step - loss: 7704.1475 - mae: 7704.1475 - accuracy: 0.0000e+00\n",
      "Epoch 10/100\n",
      "3/3 [==============================] - 0s 1ms/step - loss: 7703.1123 - mae: 7703.1123 - accuracy: 0.0000e+00\n",
      "Epoch 11/100\n",
      "3/3 [==============================] - 0s 1ms/step - loss: 7702.0898 - mae: 7702.0898 - accuracy: 0.0000e+00\n",
      "Epoch 12/100\n",
      "3/3 [==============================] - 0s 1ms/step - loss: 7701.0674 - mae: 7701.0674 - accuracy: 0.0000e+00\n",
      "Epoch 13/100\n",
      "3/3 [==============================] - 0s 993us/step - loss: 7699.9756 - mae: 7699.9756 - accuracy: 0.0000e+00\n",
      "Epoch 14/100\n",
      "3/3 [==============================] - 0s 1ms/step - loss: 7698.8008 - mae: 7698.8008 - accuracy: 0.0000e+00\n",
      "Epoch 15/100\n",
      "3/3 [==============================] - 0s 1ms/step - loss: 7697.6899 - mae: 7697.6899 - accuracy: 0.0000e+00\n",
      "Epoch 16/100\n",
      "3/3 [==============================] - 0s 1ms/step - loss: 7696.5195 - mae: 7696.5195 - accuracy: 0.0000e+00\n",
      "Epoch 17/100\n",
      "3/3 [==============================] - 0s 987us/step - loss: 7695.3608 - mae: 7695.3608 - accuracy: 0.0000e+00\n",
      "Epoch 18/100\n",
      "3/3 [==============================] - 0s 1ms/step - loss: 7694.2471 - mae: 7694.2471 - accuracy: 0.0000e+00\n",
      "Epoch 19/100\n",
      "3/3 [==============================] - 0s 988us/step - loss: 7692.9561 - mae: 7692.9561 - accuracy: 0.0000e+00\n",
      "Epoch 20/100\n",
      "3/3 [==============================] - 0s 974us/step - loss: 7691.7578 - mae: 7691.7578 - accuracy: 0.0000e+00\n",
      "Epoch 21/100\n",
      "3/3 [==============================] - 0s 1ms/step - loss: 7690.4561 - mae: 7690.4561 - accuracy: 0.0000e+00\n",
      "Epoch 22/100\n",
      "3/3 [==============================] - 0s 967us/step - loss: 7689.1572 - mae: 7689.1572 - accuracy: 0.0000e+00\n",
      "Epoch 23/100\n",
      "3/3 [==============================] - 0s 942us/step - loss: 7687.8213 - mae: 7687.8213 - accuracy: 0.0000e+00\n",
      "Epoch 24/100\n",
      "3/3 [==============================] - 0s 914us/step - loss: 7686.5288 - mae: 7686.5288 - accuracy: 0.0000e+00\n",
      "Epoch 25/100\n",
      "3/3 [==============================] - 0s 1ms/step - loss: 7685.0796 - mae: 7685.0796 - accuracy: 0.0000e+00\n",
      "Epoch 26/100\n",
      "3/3 [==============================] - 0s 934us/step - loss: 7683.7393 - mae: 7683.7393 - accuracy: 0.0000e+00\n",
      "Epoch 27/100\n",
      "3/3 [==============================] - 0s 1ms/step - loss: 7682.2397 - mae: 7682.2397 - accuracy: 0.0000e+00\n",
      "Epoch 28/100\n",
      "3/3 [==============================] - 0s 869us/step - loss: 7680.7617 - mae: 7680.7617 - accuracy: 0.0000e+00\n",
      "Epoch 29/100\n",
      "3/3 [==============================] - 0s 883us/step - loss: 7679.3701 - mae: 7679.3701 - accuracy: 0.0000e+00\n",
      "Epoch 30/100\n",
      "3/3 [==============================] - 0s 1ms/step - loss: 7677.8672 - mae: 7677.8672 - accuracy: 0.0000e+00\n",
      "Epoch 31/100\n",
      "3/3 [==============================] - 0s 980us/step - loss: 7676.2368 - mae: 7676.2368 - accuracy: 0.0000e+00\n",
      "Epoch 32/100\n",
      "3/3 [==============================] - 0s 961us/step - loss: 7674.7607 - mae: 7674.7607 - accuracy: 0.0000e+00\n",
      "Epoch 33/100\n",
      "3/3 [==============================] - 0s 888us/step - loss: 7673.2686 - mae: 7673.2686 - accuracy: 0.0000e+00\n",
      "Epoch 34/100\n",
      "3/3 [==============================] - 0s 969us/step - loss: 7671.4150 - mae: 7671.4150 - accuracy: 0.0000e+00\n",
      "Epoch 35/100\n",
      "3/3 [==============================] - 0s 905us/step - loss: 7669.7842 - mae: 7669.7842 - accuracy: 0.0000e+00\n",
      "Epoch 36/100\n",
      "3/3 [==============================] - 0s 1ms/step - loss: 7668.1484 - mae: 7668.1484 - accuracy: 0.0000e+00\n",
      "Epoch 37/100\n",
      "3/3 [==============================] - 0s 1ms/step - loss: 7666.4194 - mae: 7666.4194 - accuracy: 0.0000e+00\n",
      "Epoch 38/100\n",
      "3/3 [==============================] - 0s 904us/step - loss: 7664.7188 - mae: 7664.7188 - accuracy: 0.0000e+00\n",
      "Epoch 39/100\n",
      "3/3 [==============================] - 0s 1ms/step - loss: 7663.0029 - mae: 7663.0029 - accuracy: 0.0000e+00\n",
      "Epoch 40/100\n",
      "3/3 [==============================] - 0s 920us/step - loss: 7661.0835 - mae: 7661.0835 - accuracy: 0.0000e+00\n",
      "Epoch 41/100\n",
      "3/3 [==============================] - 0s 850us/step - loss: 7659.1641 - mae: 7659.1641 - accuracy: 0.0000e+00\n",
      "Epoch 42/100\n",
      "3/3 [==============================] - 0s 1ms/step - loss: 7657.1826 - mae: 7657.1826 - accuracy: 0.0000e+00\n",
      "Epoch 43/100\n",
      "3/3 [==============================] - 0s 843us/step - loss: 7655.3110 - mae: 7655.3110 - accuracy: 0.0000e+00\n",
      "Epoch 44/100\n",
      "3/3 [==============================] - 0s 857us/step - loss: 7653.3438 - mae: 7653.3438 - accuracy: 0.0000e+00\n",
      "Epoch 45/100\n",
      "3/3 [==============================] - 0s 1ms/step - loss: 7651.0469 - mae: 7651.0469 - accuracy: 0.0000e+00\n",
      "Epoch 46/100\n",
      "3/3 [==============================] - 0s 795us/step - loss: 7648.9907 - mae: 7648.9907 - accuracy: 0.0000e+00\n",
      "Epoch 47/100\n",
      "3/3 [==============================] - 0s 1ms/step - loss: 7646.7515 - mae: 7646.7515 - accuracy: 0.0000e+00\n",
      "Epoch 48/100\n",
      "3/3 [==============================] - 0s 960us/step - loss: 7644.4351 - mae: 7644.4351 - accuracy: 0.0000e+00\n",
      "Epoch 49/100\n",
      "3/3 [==============================] - 0s 926us/step - loss: 7642.0835 - mae: 7642.0835 - accuracy: 0.0000e+00\n",
      "Epoch 50/100\n",
      "3/3 [==============================] - 0s 898us/step - loss: 7639.9023 - mae: 7639.9023 - accuracy: 0.0000e+00\n",
      "Epoch 51/100\n",
      "3/3 [==============================] - 0s 1ms/step - loss: 7637.2759 - mae: 7637.2759 - accuracy: 0.0000e+00\n",
      "Epoch 52/100\n",
      "3/3 [==============================] - 0s 995us/step - loss: 7634.8687 - mae: 7634.8687 - accuracy: 0.0000e+00\n",
      "Epoch 53/100\n",
      "3/3 [==============================] - 0s 961us/step - loss: 7632.1938 - mae: 7632.1938 - accuracy: 0.0000e+00\n",
      "Epoch 54/100\n",
      "3/3 [==============================] - 0s 1ms/step - loss: 7629.7720 - mae: 7629.7720 - accuracy: 0.0000e+00\n",
      "Epoch 55/100\n",
      "3/3 [==============================] - 0s 868us/step - loss: 7626.8721 - mae: 7626.8721 - accuracy: 0.0000e+00\n",
      "Epoch 56/100\n",
      "3/3 [==============================] - 0s 898us/step - loss: 7624.0142 - mae: 7624.0142 - accuracy: 0.0000e+00\n",
      "Epoch 57/100\n",
      "3/3 [==============================] - 0s 979us/step - loss: 7620.9116 - mae: 7620.9116 - accuracy: 0.0000e+00\n",
      "Epoch 58/100\n",
      "3/3 [==============================] - 0s 809us/step - loss: 7618.1772 - mae: 7618.1772 - accuracy: 0.0000e+00\n",
      "Epoch 59/100\n",
      "3/3 [==============================] - 0s 952us/step - loss: 7614.8633 - mae: 7614.8633 - accuracy: 0.0000e+00\n",
      "Epoch 60/100\n",
      "3/3 [==============================] - 0s 956us/step - loss: 7611.6514 - mae: 7611.6514 - accuracy: 0.0000e+00\n",
      "Epoch 61/100\n",
      "3/3 [==============================] - 0s 835us/step - loss: 7608.4546 - mae: 7608.4546 - accuracy: 0.0000e+00\n",
      "Epoch 62/100\n",
      "3/3 [==============================] - 0s 962us/step - loss: 7604.8047 - mae: 7604.8047 - accuracy: 0.0000e+00\n",
      "Epoch 63/100\n",
      "3/3 [==============================] - 0s 1ms/step - loss: 7601.2759 - mae: 7601.2759 - accuracy: 0.0000e+00\n",
      "Epoch 64/100\n",
      "3/3 [==============================] - 0s 1ms/step - loss: 7597.9126 - mae: 7597.9126 - accuracy: 0.0000e+00\n",
      "Epoch 65/100\n",
      "3/3 [==============================] - 0s 931us/step - loss: 7593.6924 - mae: 7593.6924 - accuracy: 0.0000e+00\n",
      "Epoch 66/100\n",
      "3/3 [==============================] - 0s 997us/step - loss: 7590.0000 - mae: 7590.0000 - accuracy: 0.0000e+00\n",
      "Epoch 67/100\n",
      "3/3 [==============================] - 0s 974us/step - loss: 7586.4780 - mae: 7586.4780 - accuracy: 0.0000e+00\n",
      "Epoch 68/100\n",
      "3/3 [==============================] - 0s 793us/step - loss: 7582.1655 - mae: 7582.1655 - accuracy: 0.0000e+00\n",
      "Epoch 69/100\n",
      "3/3 [==============================] - 0s 1ms/step - loss: 7577.7178 - mae: 7577.7178 - accuracy: 0.0000e+00\n",
      "Epoch 70/100\n",
      "3/3 [==============================] - 0s 916us/step - loss: 7573.5415 - mae: 7573.5415 - accuracy: 0.0000e+00\n",
      "Epoch 71/100\n",
      "3/3 [==============================] - 0s 838us/step - loss: 7568.7749 - mae: 7568.7749 - accuracy: 0.0000e+00\n",
      "Epoch 72/100\n",
      "3/3 [==============================] - 0s 1ms/step - loss: 7564.3267 - mae: 7564.3267 - accuracy: 0.0000e+00\n",
      "Epoch 73/100\n",
      "3/3 [==============================] - 0s 853us/step - loss: 7560.2109 - mae: 7560.2109 - accuracy: 0.0000e+00\n",
      "Epoch 74/100\n",
      "3/3 [==============================] - 0s 1ms/step - loss: 7554.7905 - mae: 7554.7905 - accuracy: 0.0000e+00\n",
      "Epoch 75/100\n",
      "3/3 [==============================] - 0s 877us/step - loss: 7550.3682 - mae: 7550.3682 - accuracy: 0.0000e+00\n",
      "Epoch 76/100\n",
      "3/3 [==============================] - 0s 997us/step - loss: 7544.5405 - mae: 7544.5405 - accuracy: 0.0000e+00\n",
      "Epoch 77/100\n",
      "3/3 [==============================] - 0s 905us/step - loss: 7540.0420 - mae: 7540.0420 - accuracy: 0.0000e+00\n",
      "Epoch 78/100\n",
      "3/3 [==============================] - 0s 933us/step - loss: 7534.7212 - mae: 7534.7212 - accuracy: 0.0000e+00\n",
      "Epoch 79/100\n",
      "3/3 [==============================] - 0s 1ms/step - loss: 7529.0337 - mae: 7529.0337 - accuracy: 0.0000e+00\n",
      "Epoch 80/100\n",
      "3/3 [==============================] - 0s 872us/step - loss: 7523.7266 - mae: 7523.7266 - accuracy: 0.0000e+00\n",
      "Epoch 81/100\n",
      "3/3 [==============================] - 0s 1ms/step - loss: 7517.8311 - mae: 7517.8311 - accuracy: 0.0000e+00\n",
      "Epoch 82/100\n",
      "3/3 [==============================] - 0s 909us/step - loss: 7512.1240 - mae: 7512.1240 - accuracy: 0.0000e+00\n",
      "Epoch 83/100\n",
      "3/3 [==============================] - 0s 834us/step - loss: 7506.3877 - mae: 7506.3877 - accuracy: 0.0000e+00\n",
      "Epoch 84/100\n",
      "3/3 [==============================] - 0s 1ms/step - loss: 7500.6865 - mae: 7500.6865 - accuracy: 0.0000e+00\n",
      "Epoch 85/100\n",
      "3/3 [==============================] - 0s 848us/step - loss: 7493.7021 - mae: 7493.7021 - accuracy: 0.0000e+00\n",
      "Epoch 86/100\n",
      "3/3 [==============================] - 0s 1ms/step - loss: 7487.7256 - mae: 7487.7256 - accuracy: 0.0000e+00\n",
      "Epoch 87/100\n",
      "3/3 [==============================] - 0s 857us/step - loss: 7481.1538 - mae: 7481.1538 - accuracy: 0.0000e+00\n",
      "Epoch 88/100\n",
      "3/3 [==============================] - 0s 858us/step - loss: 7474.3452 - mae: 7474.3452 - accuracy: 0.0000e+00\n",
      "Epoch 89/100\n",
      "3/3 [==============================] - 0s 1ms/step - loss: 7467.2241 - mae: 7467.2241 - accuracy: 0.0000e+00\n",
      "Epoch 90/100\n",
      "3/3 [==============================] - 0s 1ms/step - loss: 7460.3696 - mae: 7460.3696 - accuracy: 0.0000e+00\n",
      "Epoch 91/100\n",
      "3/3 [==============================] - 0s 1ms/step - loss: 7452.0806 - mae: 7452.0806 - accuracy: 0.0000e+00\n",
      "Epoch 92/100\n",
      "3/3 [==============================] - 0s 988us/step - loss: 7445.4233 - mae: 7445.4233 - accuracy: 0.0000e+00\n",
      "Epoch 93/100\n",
      "3/3 [==============================] - 0s 1ms/step - loss: 7436.7422 - mae: 7436.7422 - accuracy: 0.0000e+00\n",
      "Epoch 94/100\n",
      "3/3 [==============================] - 0s 870us/step - loss: 7429.3135 - mae: 7429.3135 - accuracy: 0.0000e+00\n",
      "Epoch 95/100\n",
      "3/3 [==============================] - 0s 828us/step - loss: 7421.0342 - mae: 7421.0342 - accuracy: 0.0000e+00\n",
      "Epoch 96/100\n",
      "3/3 [==============================] - 0s 997us/step - loss: 7412.7720 - mae: 7412.7720 - accuracy: 0.0000e+00\n",
      "Epoch 97/100\n",
      "3/3 [==============================] - 0s 927us/step - loss: 7403.1445 - mae: 7403.1445 - accuracy: 0.0000e+00\n",
      "Epoch 98/100\n",
      "3/3 [==============================] - 0s 1ms/step - loss: 7395.5742 - mae: 7395.5742 - accuracy: 0.0000e+00\n",
      "Epoch 99/100\n",
      "3/3 [==============================] - 0s 923us/step - loss: 7386.0405 - mae: 7386.0405 - accuracy: 0.0000e+00\n",
      "Epoch 100/100\n",
      "3/3 [==============================] - 0s 880us/step - loss: 7376.3921 - mae: 7376.3921 - accuracy: 0.0000e+00\n"
     ]
    },
    {
     "data": {
      "text/plain": [
       "<keras.src.callbacks.History at 0x16b40d3d0>"
      ]
     },
     "execution_count": 6,
     "metadata": {},
     "output_type": "execute_result"
    }
   ],
   "source": [
    "model.fit(tf.expand_dims(X_train, axis=1), y_train, epochs=100)"
   ]
  },
  {
   "cell_type": "code",
   "execution_count": 7,
   "metadata": {},
   "outputs": [
    {
     "data": {
      "image/png": "[encoded data removed]",
      "text/plain": [
       "<IPython.core.display.Image object>"
      ]
     },
     "execution_count": 7,
     "metadata": {},
     "output_type": "execute_result"
    }
   ],
   "source": [
    "plot_model(model, show_shapes=True)"
   ]
  },
  {
   "cell_type": "code",
   "execution_count": 12,
   "metadata": {},
   "outputs": [
    {
     "name": "stdout",
     "output_type": "stream",
     "text": [
      "1/1 [==============================] - 0s 12ms/step\n"
     ]
    },
    {
     "data": {
      "text/plain": [
       "<matplotlib.collections.PathCollection at 0x16be98b10>"
      ]
     },
     "execution_count": 12,
     "metadata": {},
     "output_type": "execute_result"
    },
    {
     "data": {
      "image/png": "[encoded data removed]",
      "text/plain": [
       "<Figure size 640x480 with 1 Axes>"
      ]
     },
     "metadata": {},
     "output_type": "display_data"
    }
   ],
   "source": [
    "y_pred = model.predict(X_test)\n",
    "\n",
    "plt.scatter(X_test, y_test, c=\"b\")\n",
    "plt.scatter(X_test, y_pred, c=\"r\")"
   ]
  },
  {
   "cell_type": "code",
   "execution_count": 31,
   "metadata": {},
   "outputs": [
    {
     "name": "stdout",
     "output_type": "stream",
     "text": [
      "tf.Tensor(\n",
      "[10865 11599 12357 13139 13945 14775 15629 16507 17409 18335 19285 20259\n",
      " 21257 22279 23325 24395 25489 26607 27749 28915], shape=(20,), dtype=int32) \n",
      "\n",
      "tf.Tensor(\n",
      "[ -918.1769   -949.17975  -980.1826  -1011.18555 -1042.1885  -1073.1914\n",
      " -1104.1943  -1135.1973  -1166.2002  -1197.203   -1228.206   -1259.2089\n",
      " -1290.2118  -1321.2147  -1352.2177  -1383.2207  -1414.2236  -1445.2263\n",
      " -1476.2294  -1507.2323 ], shape=(20,), dtype=float32) \n",
      "\n",
      "tf.Tensor(\n",
      "[11783.177 12548.18  13337.183 14150.186 14987.188 15848.191 16733.195\n",
      " 17642.197 18575.2   19532.203 20513.207 21518.209 22547.21  23600.215\n",
      " 24677.217 25778.22  26903.223 28052.227 29225.229 30422.232], shape=(20,), dtype=float32) \n",
      "\n",
      "tf.Tensor(20418.705, shape=(), dtype=float32)\n"
     ]
    }
   ],
   "source": [
    "squeezed_y_pred = tf.squeeze(y_pred)\n",
    "\n",
    "print(y_test, \"\\n\")\n",
    "\n",
    "print(squeezed_y_pred, \"\\n\")\n",
    "\n",
    "\n",
    "\n",
    "print(tf.cast(y_test, tf.float32) - squeezed_y_pred, \"\\n\")\n",
    "\n",
    "mae = tf.metrics.mean_absolute_error(\n",
    "    y_pred=squeezed_y_pred,\n",
    "    y_true=y_test\n",
    ")\n",
    "\n",
    "print(mae)"
   ]
  },
  {
   "cell_type": "code",
   "execution_count": 32,
   "metadata": {},
   "outputs": [
    {
     "data": {
      "text/plain": [
       "(<tf.Tensor: shape=(), dtype=float32, numpy=416923520.0>,\n",
       " <tf.Tensor: shape=(), dtype=float32, numpy=449048580.0>)"
      ]
     },
     "execution_count": 32,
     "metadata": {},
     "output_type": "execute_result"
    }
   ],
   "source": [
    "mse = tf.metrics.mean_squared_error(\n",
    "    y_true=y_test,\n",
    "    y_pred=squeezed_y_pred\n",
    ")\n",
    "\n",
    "mae ** 2, mse"
   ]
  }
 ],
 "metadata": {
  "kernelspec": {
   "display_name": "Python 3",
   "language": "python",
   "name": "python3"
  },
  "language_info": {
   "codemirror_mode": {
    "name": "ipython",
    "version": 3
   },
   "file_extension": ".py",
   "mimetype": "text/x-python",
   "name": "python",
   "nbconvert_exporter": "python",
   "pygments_lexer": "ipython3",
   "version": "3.11.0"
  },
  "orig_nbformat": 4
 },
 "nbformat": 4,
 "nbformat_minor": 2
}
